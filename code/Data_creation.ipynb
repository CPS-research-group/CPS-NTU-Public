{
 "cells": [
  {
   "cell_type": "code",
   "execution_count": 1,
   "id": "d1aca661",
   "metadata": {
    "pycharm": {
     "name": "#%%\n"
    }
   },
   "outputs": [],
   "source": [
    "import numpy \n",
    "import math\n",
    "import random\n",
    "import pickle\n",
    "import time"
   ]
  },
  {
   "cell_type": "markdown",
   "id": "7940dcc9",
   "metadata": {
    "pycharm": {
     "name": "#%% md\n"
    }
   },
   "source": [
    "### Pickling"
   ]
  },
  {
   "cell_type": "code",
   "execution_count": 2,
   "id": "3caacbb7",
   "metadata": {
    "pycharm": {
     "name": "#%%\n"
    }
   },
   "outputs": [],
   "source": [
    "def read_pickle(filename):\n",
    "    infile = open(filename,'rb')\n",
    "    dict_data = pickle.load(infile)\n",
    "    infile.close()\n",
    "    return dict_data"
   ]
  },
  {
   "cell_type": "code",
   "execution_count": 3,
   "id": "02ac2f3d",
   "metadata": {
    "pycharm": {
     "name": "#%%\n"
    }
   },
   "outputs": [],
   "source": [
    "def write_pickle(dict_data, filename):\n",
    "    pickling_on = open(filename+'.pickle',\"wb\")\n",
    "    pickle.dump(dict_data, pickling_on)\n",
    "    pickling_on.close()\n",
    "    print('saved file')"
   ]
  },
  {
   "cell_type": "markdown",
   "id": "863b21b5",
   "metadata": {
    "pycharm": {
     "name": "#%% md\n"
    }
   },
   "source": [
    "### UUniFast and Friends\n",
    "##### Code from : https://github.com/MaximeCheramy/simso/blob/master/simso/generator/task_generator.py\n",
    "and https://github.com/brandenburg/schedcat/blob/master/schedcat/generator/generator_emstada.py"
   ]
  },
  {
   "cell_type": "code",
   "execution_count": 4,
   "id": "c230935f",
   "metadata": {
    "pycharm": {
     "name": "#%%\n"
    }
   },
   "outputs": [],
   "source": [
    "# from https://github.com/MaximeCheramy/simso/blob/master/simso/generator/task_generator.py\n",
    "def UUniFastDiscard(n, u, nsets):\n",
    "    '''\n",
    "    n: number of tasks\n",
    "    u: utilisation\n",
    "    nsets: number of tasksets (instances) to be created\n",
    "    \n",
    "    Can be used for multiprocessor case \n",
    "    Becomes highly inefficient as u approaches n/2\n",
    "    '''\n",
    "    \n",
    "    sets = []\n",
    "    while len(sets) < nsets:\n",
    "        # Classic UUniFast algorithm:\n",
    "        utilizations = []\n",
    "        sumU = u\n",
    "        for i in range(1, n):\n",
    "            nextSumU = sumU * random.random() ** (1.0 / (n - i))\n",
    "            utilizations.append(sumU - nextSumU)\n",
    "            sumU = nextSumU\n",
    "        utilizations.append(sumU)\n",
    "\n",
    "        # If no task utilization exceeds 1: - safety check\n",
    "        if all(ut <= 1 for ut in utilizations):\n",
    "            sets.append(utilizations)\n",
    "\n",
    "    return sets\n"
   ]
  },
  {
   "cell_type": "code",
   "execution_count": 5,
   "id": "500fc942",
   "metadata": {
    "pycharm": {
     "name": "#%%\n"
    }
   },
   "outputs": [],
   "source": [
    "# https://github.com/MaximeCheramy/simso/blob/master/simso/generator/task_generator.py\n",
    "def UUniFast(n, u, nsets):\n",
    "    '''\n",
    "    n: number of tasks\n",
    "    u: utilisation\n",
    "    nsets: number of tasksets (instances) to be created\n",
    "    \n",
    "    For uniprocessor case\n",
    "    '''\n",
    "    \n",
    "    sets = []\n",
    "    while len(sets) < nsets:\n",
    "        # Classic UUniFast algorithm:\n",
    "        utilizations = []\n",
    "        sumU = u\n",
    "        for i in range(1, n):\n",
    "            nextSumU = sumU * random.random() ** (1.0 / (n - i))\n",
    "            utilizations.append(sumU - nextSumU)\n",
    "            sumU = nextSumU\n",
    "        utilizations.append(sumU)\n",
    "\n",
    "#         # If no task utilization exceeds 1:\n",
    "#         if all(ut <= 1 for ut in utilizations):\n",
    "        sets.append(utilizations)\n",
    "\n",
    "    return sets\n"
   ]
  },
  {
   "cell_type": "markdown",
   "id": "9395eb5e",
   "metadata": {
    "pycharm": {
     "name": "#%% md\n"
    }
   },
   "source": [
    "### There is a problem with xrange (not defined in python 3). So can it be simple changed to range?"
   ]
  },
  {
   "cell_type": "code",
   "execution_count": 6,
   "id": "567f90f9",
   "metadata": {
    "pycharm": {
     "name": "#%%\n"
    }
   },
   "outputs": [],
   "source": [
    "# from https://github.com/brandenburg/schedcat/blob/master/schedcat/generator/generator_emstada.py\n",
    "\n",
    "def StaffordRandFixedSum(n, u, nsets):\n",
    "\n",
    "    #deal with n=1 case\n",
    "    if n == 1:\n",
    "        return numpy.tile(numpy.array([u]),[nsets,1])\n",
    "\n",
    "    k = numpy.floor(u)\n",
    "    s = u\n",
    "    step = 1 if k < (k-n+1) else -1\n",
    "    s1 = s - numpy.arange( k, (k-n+1)+step, step )\n",
    "    step = 1 if (k+n) < (k-n+1) else -1\n",
    "    s2 = numpy.arange( (k+n), (k+1)+step, step ) - s\n",
    "\n",
    "    tiny = numpy.finfo(float).tiny\n",
    "    huge = numpy.finfo(float).max\n",
    "\n",
    "    w = numpy.zeros((n, n+1))\n",
    "    w[0,1] = huge\n",
    "    t = numpy.zeros((n-1,n))\n",
    "\n",
    "    for i in numpy.arange(2, (n+1)):\n",
    "        tmp1 = w[i-2, numpy.arange(1,(i+1))] * s1[numpy.arange(0,i)]/float(i)\n",
    "        tmp2 = w[i-2, numpy.arange(0,i)] * s2[numpy.arange((n-i),n)]/float(i)\n",
    "        w[i-1, numpy.arange(1,(i+1))] = tmp1 + tmp2;\n",
    "        tmp3 = w[i-1, numpy.arange(1,(i+1))] + tiny;\n",
    "        tmp4 = numpy.array( (s2[numpy.arange((n-i),n)] > s1[numpy.arange(0,i)]) )\n",
    "        t[i-2, numpy.arange(0,i)] = (tmp2 / tmp3) * tmp4 + (1 - tmp1/tmp3) * (numpy.logical_not(tmp4))\n",
    "\n",
    "    m = nsets\n",
    "    x = numpy.zeros((n,m))\n",
    "    rt = numpy.random.uniform(size=(n-1,m)) #rand simplex type\n",
    "    rs = numpy.random.uniform(size=(n-1,m)) #rand position in simplex\n",
    "    s = numpy.repeat(s, m);\n",
    "    j = numpy.repeat(int(k+1), m);\n",
    "    sm = numpy.repeat(0, m);\n",
    "    pr = numpy.repeat(1, m);\n",
    "\n",
    "    for i in numpy.arange(n-1,0,-1): #iterate through dimensions\n",
    "        e = ( rt[(n-i)-1,...] <= t[i-1,j-1] ) #decide which direction to move in this dimension (1 or 0)\n",
    "        sx = rs[(n-i)-1,...] ** (1/float(i)) #next simplex coord\n",
    "        sm = sm + (1-sx) * pr * s/float(i+1)\n",
    "        pr = sx * pr\n",
    "        x[(n-i)-1,...] = sm + pr * e\n",
    "        s = s - e\n",
    "        j = j - e #change transition table column if required\n",
    "\n",
    "    x[n-1,...] = sm + pr * s\n",
    "\n",
    "    #iterated in fixed dimension order but needs to be randomised\n",
    "    #permute x row order within each column\n",
    "    \n",
    "# #     Original\n",
    "#     for i in xrange(0,m):\n",
    "#         x[...,i] = x[numpy.random.permutation(n),i]\n",
    "\n",
    "    for i in range(0,m):\n",
    "        x[...,i] = x[numpy.random.permutation(n),i]\n",
    "\n",
    "    return numpy.transpose(x);"
   ]
  },
  {
   "cell_type": "code",
   "execution_count": 7,
   "id": "06c10ab1",
   "metadata": {
    "pycharm": {
     "name": "#%%\n"
    }
   },
   "outputs": [
    {
     "name": "stdout",
     "output_type": "stream",
     "text": [
      "correct\n"
     ]
    }
   ],
   "source": [
    "def basic_check_Staffords_algo():\n",
    "    '''\n",
    "    This function does 2 simple checks on the given 'StaffordRandFixedSum' function above\n",
    "    1. If sum of all utilisations of tasks in a taskset add up to total utilisation\n",
    "    2. If all utilisations of all tasks in all tasksets is not more than 1\n",
    "    '''\n",
    "    flag = 0\n",
    "    num_runs = 100\n",
    "    li2 = StaffordRandFixedSum(100, 50, 100)\n",
    "    \n",
    "    for run in range(0,num_runs):\n",
    "        \n",
    "        for li in li2:\n",
    "            if max(li) >= 1:\n",
    "                flag = 1\n",
    "                break\n",
    "            if sum(li) > 51 or sum(li) < 49:\n",
    "                flag = 1\n",
    "                break\n",
    "            if len(li) != 100:\n",
    "                flag = 1\n",
    "                break\n",
    "        \n",
    "        if flag == 1:\n",
    "            return('wrong')\n",
    "            break\n",
    "\n",
    "    if flag == 0 and len(li2)==100:\n",
    "        print('correct')\n",
    "    else:\n",
    "        print('wrong')\n",
    "basic_check_Staffords_algo()"
   ]
  },
  {
   "cell_type": "markdown",
   "id": "d5f4073f",
   "metadata": {
    "pycharm": {
     "name": "#%% md\n"
    }
   },
   "source": [
    "### Miscellaneous Functions"
   ]
  },
  {
   "cell_type": "code",
   "execution_count": 8,
   "id": "c849b847",
   "metadata": {
    "pycharm": {
     "name": "#%%\n"
    }
   },
   "outputs": [],
   "source": [
    "def generate_N_E_i(tasks, edge_server):\n",
    "    '''\n",
    "    Needs review - num_edge_assgmts per task\n",
    "    \n",
    "    tasks = ['task_1', 'task_2']- in this form\n",
    "    edge_server = ['edge_1', 'edge_2']   - in this form\n",
    "    \n",
    "    returns N_E_i and N_I_e\n",
    "    '''\n",
    "    N_E_i = {}\n",
    "    N_I_e = {}\n",
    "    \n",
    "    for task in tasks:\n",
    "        \n",
    "#         Should it be len(edge_list) divided by 2 below?\n",
    "#         num_edge_assgmts = random.randint(1, math.ceil(len(edge_server)/2))  \n",
    "        num_edge_assgmts = random.randint(1, 2)  \n",
    "#         num_edge_assgmts = 2   \n",
    "        \n",
    "#         randomly sample from edge_list\n",
    "        N_E_i[task] = list(random.sample(edge_server, num_edge_assgmts))\n",
    "    \n",
    "    for edge in edge_server:\n",
    "        N_I_e[edge] = []\n",
    "\n",
    "        for task in N_E_i:\n",
    "            if edge in N_E_i[task]:\n",
    "                N_I_e[edge].append(task)\n",
    "    \n",
    "    return N_E_i, N_I_e"
   ]
  },
  {
   "cell_type": "code",
   "execution_count": 9,
   "id": "961d83eb",
   "metadata": {
    "pycharm": {
     "name": "#%%\n"
    }
   },
   "outputs": [],
   "source": [
    "def set_server_variables():\n",
    "    '''\n",
    "    Needs review - the ranges for randomly generating values\n",
    "    \n",
    "    No input, please change values in the function directly\n",
    "    All server related variables to be fixes across taskset instances \n",
    "    \n",
    "    Note: Must only be called once throughout\n",
    "    '''\n",
    "    \n",
    "\n",
    "    \n",
    "    unit_b = 1\n",
    "    unit_c = 1\n",
    "    \n",
    "    num_cloud = 5\n",
    "    num_edge = 20\n",
    "    \n",
    "    cloud_server, edge_server = [], []\n",
    "    for i in range(num_cloud):\n",
    "        cloud_server.append('cloud_'+str(i+1))\n",
    "    for i in range(num_edge):\n",
    "        edge_server.append('edge_'+str(i+1))\n",
    "    \n",
    "    V_k, U_j = {}, {}\n",
    "    for cloud in cloud_server:\n",
    "        V_k[cloud] = random.randint(80, 100)    # need to change range\n",
    "    for edge in edge_server:\n",
    "        V_k[edge] = random.randint(40, 60)     # need to change range\n",
    "        U_j[edge] = random.randint(40, 100)     # need to change range\n",
    "    \n",
    "    C_k, B_j = {}, {}\n",
    "    for key in V_k.keys():\n",
    "        C_k[key] = V_k[key]*unit_c\n",
    "    for key in U_j.keys():\n",
    "        B_j[key] = U_j[key]*unit_b\n",
    "        \n",
    "    alpha, beta = [], []\n",
    "    for i in range(1, 1+max(U_j.values())):\n",
    "        alpha.append(i)\n",
    "    for i in range(1, 1+max(V_k.values())):\n",
    "        beta.append(i)\n",
    "    \n",
    "    delta_jk = {}\n",
    "    for edge in edge_server:\n",
    "        for key in C_k.keys():\n",
    "            if edge == key:          # need to keep tuple where both values are same edge due to Gurobi\n",
    "                    delta_jk[(edge,key)] = 0\n",
    "            else:\n",
    "                delta_jk[(edge,key)] = random.randint(1, 10)    # change to 1-10\n",
    "    \n",
    "    return V_k, U_j, C_k, B_j, delta_jk, alpha, beta, cloud_server, edge_server, unit_b, unit_c"
   ]
  },
  {
   "cell_type": "code",
   "execution_count": 10,
   "id": "e98a77f7",
   "metadata": {
    "pycharm": {
     "name": "#%%\n"
    }
   },
   "outputs": [],
   "source": [
    "def generate_tau_g(tasks, delta_jk):\n",
    "    '''\n",
    "    tasks = ['task_1', 'task_2'] - in this form\n",
    "    delta_jk = {(edge_1, cloud_1): 7, ((edge_1, cloud_2): 5)} - in this form\n",
    "    \n",
    "    Need to review ranges of values used to generate tau and G values\n",
    "    Need to review value of c (a bigger number) like 10\n",
    "    '''\n",
    "    c = 15\n",
    "    tau_i, G_i = {}, {}\n",
    "    \n",
    "    # Calculating mean delta_jk mean value and max value\n",
    "    max_delta_jk = max(delta_jk.values())\n",
    "    sum_delta_jk = 0\n",
    "    count_delta_jk = 0\n",
    "    mean_delta_jk = 0\n",
    "    \n",
    "    for key in delta_jk.keys():\n",
    "        if key[0] != key[1]:\n",
    "            sum_delta_jk += delta_jk[key]\n",
    "            count_delta_jk += 1\n",
    "    \n",
    "    # Rounding up mean value of delta_jk by one unit\n",
    "    mean_delta_jk = sum_delta_jk/count_delta_jk\n",
    "    \n",
    "    for task in tasks:\n",
    "        G_i[task] = random.randint(10, 100) # need to review range of values\n",
    "        \n",
    "        rand_num = random.random()\n",
    "        if rand_num > 0.5:\n",
    "            tau_i[task] = random.randint(2*max_delta_jk + c, 2*max_delta_jk + c + 30) # need to review range of values\n",
    "        else:\n",
    "            tau_i[task] = random.randint(2*math.ceil(mean_delta_jk) + c, 2*math.ceil(mean_delta_jk) + c + 30) # need to review range of values\n",
    "    \n",
    "    return tau_i, G_i"
   ]
  },
  {
   "cell_type": "markdown",
   "id": "a780df94",
   "metadata": {
    "pycharm": {
     "name": "#%% md\n"
    }
   },
   "source": [
    "### Generating Taskset Instances\n",
    "\n",
    "#### One issue: Have to make sure num_tasks > max u_c value "
   ]
  },
  {
   "cell_type": "code",
   "execution_count": 11,
   "id": "cf542669",
   "metadata": {
    "pycharm": {
     "name": "#%%\n"
    }
   },
   "outputs": [],
   "source": [
    "def generate_tasksets(early_stop):\n",
    "    '''\n",
    "    early stop - 1 or any other number - for testing - if 1 stop at 100 tasksets\n",
    "    output - tasksets which is a dictionary\n",
    "    \n",
    "    tasksets:\n",
    "    key - ID of of that instance\n",
    "    value -  Dictionary containing tasks, G_i, tau_i, N_E_i, theta_i, S_i\n",
    "    \n",
    "    need to review ranges - Note: num_tasks must be greater than max u_c value \n",
    "    '''\n",
    "    \n",
    "    tasksets = {}\n",
    "    taskset_ID = 0\n",
    "\n",
    "    random.seed(1000)\n",
    "    # Setting server related variables\n",
    "    V_k, U_j, C_k, B_j, delta_jk, alpha, beta, cloud_server, edge_server, unit_b, unit_c = set_server_variables()\n",
    "    \n",
    "    \n",
    "    # Calculating mean delta_jk mean value and max value\n",
    "    max_delta_jk = max(delta_jk.values())\n",
    "    sum_delta_jk = 0\n",
    "    count_delta_jk = 0\n",
    "    mean_delta_jk = 0\n",
    "    for key in delta_jk.keys():\n",
    "        if delta_jk[key] != 0:\n",
    "            sum_delta_jk += delta_jk[key]\n",
    "            count_delta_jk += 1\n",
    "\n",
    "    mean_delta_jk = sum_delta_jk/count_delta_jk\n",
    "    \n",
    "    \n",
    "    num_tasks_vary, u_c_vary, u_b_vary = [], [], []\n",
    "    num_uuniform_runs = 30                              \n",
    "    \n",
    "    # num_tasks_vary = [40, 50, 60, 70, 80, 90, 100, 110, 120]   # need to review number of runs\n",
    "    num_tasks_vary = [40, 60, 80, 100, 120]\n",
    "    \n",
    "    # fixing u_b_vary\n",
    "    u_b_vary = [0.3, 0.4, 0.5, 0.6, 0.7, 0.8, 0.9, 1.0]    \n",
    "    \n",
    "    # Below u_c_vary is fixed\n",
    "    # utilisation = 1 corresponds to min(C_k.values())\n",
    "    # total utilisation is calculated accordingly\n",
    "    min_C_k = min(C_k.values())\n",
    "    u_c_total = 0\n",
    "    for key in C_k.keys():\n",
    "        u_c_total += (C_k[key] / min_C_k)\n",
    "        \n",
    "    for i in range (1, math.floor(u_c_total)+1, 4):     # need to review this increment used in the loop\n",
    "        u_c_vary.append(i)\n",
    "    if max(u_c_vary) != u_c_total:\n",
    "        u_c_vary.append(u_c_total)\n",
    "    \n",
    "    #delete these\n",
    "#     middle_UC = u_c_vary[7]\n",
    "#     u_c_vary[0] = middle_UC\n",
    "    \n",
    "    print('Information from function generate_tasksets:')\n",
    "    print('--------------------------------------------')\n",
    "    print('num of uuniform runs: ', num_uuniform_runs)\n",
    "    print('num_tasks_vary: ', num_tasks_vary)\n",
    "    print('u_b_vary: ', u_b_vary)\n",
    "    print('u_c_total: ', u_c_total)\n",
    "    print('u_c_vary: ', u_c_vary)\n",
    "    print()\n",
    "\n",
    "    random.seed(500)\n",
    "\n",
    "    for num_tasks in num_tasks_vary:\n",
    "        \n",
    "        tasks = []\n",
    "        \n",
    "        for i in range(num_tasks):\n",
    "            tasks.append('task_'+str(i+1))\n",
    "        \n",
    "        for u_b in u_b_vary:\n",
    "            for u_c in u_c_vary:\n",
    "            \n",
    "                \n",
    "                for run in range(0, num_uuniform_runs):\n",
    "                    \n",
    "#                     generate mapping of tasks to edge servers for a given number of tasks\n",
    "                    N_E_i, N_I_e = generate_N_E_i(tasks, edge_server)\n",
    "\n",
    "#                     generate deadline and profit values\n",
    "                    tau_i, G_i = generate_tau_g(tasks, delta_jk)\n",
    "                    \n",
    "                    theta_i, S_i = {}, {}\n",
    "\n",
    "                    # initializing S_i as a dictionary of lists\n",
    "                    for task in tasks:\n",
    "                        S_i[task] = []\n",
    "                    \n",
    "                    # Finding theta_i values in this run\n",
    "                    u_c_i = list(StaffordRandFixedSum(num_tasks, u_c, 1)[0])\n",
    "                    for i in range(0, len(tasks)):\n",
    "                        theta_i[tasks[i]] = (u_c_i[i] * min_C_k) * (tau_i[tasks[i]] - 2 * mean_delta_jk)\n",
    "                    \n",
    "                    # Finding S_i values in this run\n",
    "                    for edge in edge_server:\n",
    "                        u_b_i = list(UUniFast(len(N_I_e[edge]), u_b, 1)[0])\n",
    "                        for i in range(0, len(N_I_e[edge])):\n",
    "                            \n",
    "                            # Note: S_i already initialised as dictionary of lists\n",
    "                            S_i[N_I_e[edge][i]].append((u_b_i[i]*B_j[edge])*(tau_i[N_I_e[edge][i]] - 2*mean_delta_jk))\n",
    "                    \n",
    "                    # choose max S_i value for a task across all edge servers its mapped to\n",
    "                    for task in tasks: \n",
    "                        max_value = max(S_i[task])\n",
    "                        S_i[task] = max_value\n",
    "                \n",
    "                    tasksets[taskset_ID] = {'tasks':tasks,'G_i':G_i,'tau_i': tau_i,'N_E_i': N_E_i,\\\n",
    "                                            'theta_i':theta_i, 'S_i':S_i, 'u_b': u_b, 'u_c': u_c}\n",
    "                    taskset_ID += 1\n",
    "\n",
    "                    if((taskset_ID+1)%1000 == 0):\n",
    "                        print('num of tasksets generated = ', taskset_ID+1)\n",
    "\n",
    "                    if early_stop == 1 and taskset_ID==10:\n",
    "                        print('--------------------------------------------')\n",
    "                        print()\n",
    "                        return tasksets, V_k, U_j, C_k, B_j, delta_jk, alpha, beta, cloud_server, edge_server, unit_b, unit_c\n",
    "    print('--------------------------------------------')\n",
    "    print()\n",
    "    return tasksets, V_k, U_j, C_k, B_j, delta_jk, alpha, beta, cloud_server, edge_server, unit_b, unit_c"
   ]
  },
  {
   "cell_type": "code",
   "execution_count": 12,
   "id": "0d86afc2",
   "metadata": {
    "pycharm": {
     "name": "#%%\n"
    }
   },
   "outputs": [],
   "source": [
    "def create_tasksets_and_analysis(early_stop):\n",
    "    '''\n",
    "    early stop - 1 or any other number - for testing - if 1 stop at 10 tasksets\n",
    "    output - tasksets which is a dictionary\n",
    "    '''\n",
    "    \n",
    "    tasksets, V_k, U_j, C_k, B_j, delta_jk, alpha, beta, cloud_server, edge_server, unit_b, unit_c = generate_tasksets(early_stop)\n",
    "    \n",
    "    sum_delta_jk = 0\n",
    "    count_delta_jk = 0\n",
    "    mean_delta_jk = 0\n",
    "    for key in delta_jk.keys():\n",
    "        if delta_jk[key] != 0:\n",
    "            sum_delta_jk += delta_jk[key]\n",
    "            count_delta_jk += 1\n",
    "\n",
    "    mean_delta_jk = sum_delta_jk/count_delta_jk\n",
    "    \n",
    "    min_C_k = min(C_k.values())\n",
    "    results = {}\n",
    "    count = 0\n",
    "\n",
    "    for taskset_ID in tasksets.keys():\n",
    "        count+=1\n",
    "        results[taskset_ID] = {}\n",
    "        \n",
    "        tasks = tasksets[taskset_ID]['tasks']\n",
    "        G_i = tasksets[taskset_ID]['G_i']\n",
    "        tau_i = tasksets[taskset_ID]['tau_i']\n",
    "        N_E_i = tasksets[taskset_ID]['N_E_i']\n",
    "        theta_i = tasksets[taskset_ID]['theta_i']\n",
    "        S_i = tasksets[taskset_ID]['S_i']\n",
    "        \n",
    "        num_comp_int = 0\n",
    "        num_bdwth_int = 0\n",
    "        for task in tasks:\n",
    "            if (theta_i[task]/(tau_i[task] - 2*mean_delta_jk)) > 0.2*min_C_k:        # need to review - change 0.2\n",
    "                num_comp_int += 1\n",
    "            \n",
    "            min_b_li = []\n",
    "            for edge in N_E_i[task]:\n",
    "                min_b_li.append(B_j[edge])\n",
    "            min_b = min(min_b_li)\n",
    "            \n",
    "            if (S_i[task]/(tau_i[task] - 2*mean_delta_jk)) > 0.2* min_b:        # need to review - change 0.2\n",
    "                num_bdwth_int += 1\n",
    "            \n",
    "        results[taskset_ID]['percent_comp_int'] = (num_comp_int/len(tasks))*100\n",
    "        results[taskset_ID]['percent_bdwth_int'] = (num_bdwth_int/len(tasks))*100\n",
    "        results[taskset_ID]['num_tasks'] = len(tasks)\n",
    "    \n",
    "    other_test_data = {}\n",
    "    other_test_data['V_k'] = V_k\n",
    "    other_test_data['U_j'] = U_j\n",
    "    other_test_data['C_k'] = C_k\n",
    "    other_test_data['B_j'] = B_j \n",
    "    other_test_data['delta_jk'] = delta_jk \n",
    "    other_test_data['alpha'] = alpha \n",
    "    other_test_data['beta'] = beta \n",
    "    other_test_data['cloud_server'] = cloud_server \n",
    "    other_test_data['edge_server'] = edge_server   \n",
    "    other_test_data['unit_b'] = unit_b\n",
    "    other_test_data['unit_c'] = unit_c\n",
    "    return tasksets, results, other_test_data"
   ]
  },
  {
   "cell_type": "code",
   "execution_count": 13,
   "id": "7df0decb",
   "metadata": {
    "pycharm": {
     "name": "#%%\n"
    }
   },
   "outputs": [],
   "source": [
    "def basic_analysis():\n",
    "    \n",
    "    print('Information from function basic_analysis()')\n",
    "    print('-----------------------------------------------')\n",
    "    print()\n",
    "    tasksets_test, results_test, other_test_data = create_tasksets_and_analysis(1)\n",
    "    print('results keys: ', results_test[0].keys())\n",
    "    print('other_test_data keys: ', other_test_data.keys())\n",
    "    print()\n",
    "    print('number of tasksets:', len(results_test.keys()))\n",
    "    print()\n",
    "    \n",
    "    print('percent_bdwth_int: ', end=' ')\n",
    "    for key in results_test.keys():\n",
    "        print(results_test[key]['percent_bdwth_int'], end=' ')\n",
    "    print()\n",
    "    \n",
    "    print('percent_comp_int: ', end=' ')\n",
    "    for key in results_test.keys():\n",
    "        print(results_test[key]['percent_comp_int'], end=' ')\n",
    "    print()\n",
    "    \n",
    "    print('num_tasks: ', end=' ')\n",
    "    for key in results_test.keys():\n",
    "        print(results_test[key]['num_tasks'], end=' ')\n",
    "    print()\n",
    "        \n",
    "    print('-----------------------------------------------')\n",
    "    return tasksets_test, results_test, other_test_data"
   ]
  },
  {
   "cell_type": "markdown",
   "id": "03f71d21",
   "metadata": {
    "pycharm": {
     "name": "#%% md\n"
    }
   },
   "source": [
    "### Driver Code - Create and Save"
   ]
  },
  {
   "cell_type": "code",
   "execution_count": 14,
   "id": "36d2b9b3",
   "metadata": {
    "pycharm": {
     "name": "#%%\n"
    }
   },
   "outputs": [],
   "source": [
    "# tasksets, results, other_test_data = basic_analysis()"
   ]
  },
  {
   "cell_type": "code",
   "execution_count": 15,
   "id": "7b1bec12",
   "metadata": {
    "pycharm": {
     "name": "#%%\n"
    }
   },
   "outputs": [],
   "source": [
    "def main():\n",
    "    tasksets, results, other_test_data = create_tasksets_and_analysis(0)\n",
    "    \n",
    "    print()\n",
    "    print()\n",
    "    print('Information from main()')\n",
    "    print('-----------------------------------------------')\n",
    "    print('Number of taskset: ', len(tasksets.keys()))\n",
    "    print()\n",
    "    \n",
    "    comp_int_num = {'0-10':0, '10-20':0, '20-30':0, '30-40':0, '40-50':0, '50-60':0, '60-70':0, '70-80':0, '80-90':0,'90-100':0}\n",
    "    bdwth_int_num = {'0-10':0, '10-20':0, '20-30':0, '30-40':0, '40-50':0, '50-60':0, '60-70':0, '70-80':0, '80-90':0,'90-100':0}\n",
    "    \n",
    "    for ID in results.keys():\n",
    "        if results[ID]['percent_comp_int'] >=0 and results[ID]['percent_comp_int'] < 10:\n",
    "            comp_int_num['0-10'] += 1 \n",
    "            \n",
    "        if results[ID]['percent_comp_int'] >=10 and results[ID]['percent_comp_int'] < 20:\n",
    "            comp_int_num['10-20'] += 1 \n",
    "            \n",
    "        if results[ID]['percent_comp_int'] >=20 and results[ID]['percent_comp_int'] < 30:\n",
    "            comp_int_num['20-30'] += 1 \n",
    "            \n",
    "        if results[ID]['percent_comp_int'] >=30 and results[ID]['percent_comp_int'] < 40:\n",
    "            comp_int_num['30-40'] += 1 \n",
    "            \n",
    "        if results[ID]['percent_comp_int'] >=40 and results[ID]['percent_comp_int'] < 50:\n",
    "            comp_int_num['40-50'] += 1 \n",
    "            \n",
    "        if results[ID]['percent_comp_int'] >=50 and results[ID]['percent_comp_int'] < 60:\n",
    "            comp_int_num['50-60'] += 1 \n",
    "            \n",
    "        if results[ID]['percent_comp_int'] >=60 and results[ID]['percent_comp_int'] < 70:\n",
    "            comp_int_num['60-70'] += 1 \n",
    "            \n",
    "        if results[ID]['percent_comp_int'] >=70 and results[ID]['percent_comp_int'] < 80:\n",
    "            comp_int_num['70-80'] += 1 \n",
    "            \n",
    "        if results[ID]['percent_comp_int'] >=80 and results[ID]['percent_comp_int'] < 90:\n",
    "            comp_int_num['80-90'] += 1 \n",
    "            \n",
    "        if results[ID]['percent_comp_int'] >=90 and results[ID]['percent_comp_int'] <= 100:\n",
    "            comp_int_num['90-100'] += 1 \n",
    "            \n",
    "\n",
    "        if results[ID]['percent_bdwth_int'] >=0 and results[ID]['percent_bdwth_int'] < 10:\n",
    "             bdwth_int_num['0-10'] += 1 \n",
    "            \n",
    "        if results[ID]['percent_bdwth_int'] >=10 and results[ID]['percent_bdwth_int'] < 20:\n",
    "             bdwth_int_num['10-20'] += 1 \n",
    "            \n",
    "        if results[ID]['percent_bdwth_int'] >=20 and results[ID]['percent_bdwth_int'] < 30:\n",
    "             bdwth_int_num['20-30'] += 1 \n",
    "            \n",
    "        if results[ID]['percent_bdwth_int'] >=30 and results[ID]['percent_bdwth_int'] < 40:\n",
    "             bdwth_int_num['30-40'] += 1 \n",
    "            \n",
    "        if results[ID]['percent_bdwth_int'] >=40 and results[ID]['percent_bdwth_int'] < 50:\n",
    "             bdwth_int_num['40-50'] += 1 \n",
    "            \n",
    "        if results[ID]['percent_bdwth_int'] >=50 and results[ID]['percent_bdwth_int'] < 60:\n",
    "             bdwth_int_num['50-60'] += 1 \n",
    "            \n",
    "        if results[ID]['percent_bdwth_int'] >=60 and results[ID]['percent_bdwth_int'] < 70:\n",
    "             bdwth_int_num['60-70'] += 1 \n",
    "            \n",
    "        if results[ID]['percent_bdwth_int'] >=70 and results[ID]['percent_bdwth_int'] < 80:\n",
    "             bdwth_int_num['70-80'] += 1 \n",
    "            \n",
    "        if results[ID]['percent_bdwth_int'] >=80 and results[ID]['percent_bdwth_int'] < 90:\n",
    "             bdwth_int_num['80-90'] += 1 \n",
    "            \n",
    "        if results[ID]['percent_bdwth_int'] >=90 and results[ID]['percent_bdwth_int'] <= 100:\n",
    "             bdwth_int_num['90-100'] += 1 \n",
    "            \n",
    "    print('Number of Instances split by compute intensiveness:')\n",
    "    for key in comp_int_num.keys():\n",
    "        print(key+': ', end='')\n",
    "        print(comp_int_num[key])\n",
    "    print()\n",
    "            \n",
    "    print('Number of Instances split by bdwth intensiveness:')\n",
    "    for key in bdwth_int_num.keys():\n",
    "        print(key+': ', end='')\n",
    "        print(bdwth_int_num[key])\n",
    "    print() \n",
    "\n",
    "    dict_data = {'tasksets': tasksets, 'results':results, 'other_test_data':other_test_data}\n",
    "    \n",
    "    \n",
    "    write_pickle(dict_data, 'data/experiment_data')\n",
    "    return other_test_data"
   ]
  },
  {
   "cell_type": "code",
   "execution_count": 16,
   "id": "844928bc",
   "metadata": {
    "pycharm": {
     "name": "#%%\n"
    }
   },
   "outputs": [
    {
     "name": "stdout",
     "output_type": "stream",
     "text": [
      "Information from function generate_tasksets:\n",
      "--------------------------------------------\n",
      "num of uuniform runs:  30\n",
      "num_tasks_vary:  [40, 60, 80, 100, 120]\n",
      "u_b_vary:  [0.3, 0.4, 0.5, 0.6, 0.7, 0.8, 0.9, 1.0]\n",
      "u_c_total:  35.49999999999999\n",
      "u_c_vary:  [1, 5, 9, 13, 17, 21, 25, 29, 33, 35.49999999999999]\n",
      "\n",
      "num of tasksets generated =  1000\n",
      "num of tasksets generated =  2000\n",
      "num of tasksets generated =  3000\n",
      "num of tasksets generated =  4000\n",
      "num of tasksets generated =  5000\n",
      "num of tasksets generated =  6000\n",
      "num of tasksets generated =  7000\n",
      "num of tasksets generated =  8000\n",
      "num of tasksets generated =  9000\n",
      "num of tasksets generated =  10000\n",
      "num of tasksets generated =  11000\n",
      "num of tasksets generated =  12000\n",
      "--------------------------------------------\n",
      "\n",
      "\n",
      "\n",
      "Information from main()\n",
      "-----------------------------------------------\n",
      "Number of taskset:  12000\n",
      "\n",
      "Number of Instances split by compute intensiveness:\n",
      "0-10: 2340\n",
      "10-20: 887\n",
      "20-30: 992\n",
      "30-40: 1018\n",
      "40-50: 1394\n",
      "50-60: 1461\n",
      "60-70: 1191\n",
      "70-80: 938\n",
      "80-90: 780\n",
      "90-100: 999\n",
      "\n",
      "Number of Instances split by bdwth intensiveness:\n",
      "0-10: 2150\n",
      "10-20: 2114\n",
      "20-30: 2338\n",
      "30-40: 1894\n",
      "40-50: 1335\n",
      "50-60: 1089\n",
      "60-70: 749\n",
      "70-80: 305\n",
      "80-90: 26\n",
      "90-100: 0\n",
      "\n",
      "saved file\n"
     ]
    }
   ],
   "source": [
    "other_test_data = main()"
   ]
  },
  {
   "cell_type": "code",
   "execution_count": 18,
   "id": "157bf9b9",
   "metadata": {
    "pycharm": {
     "name": "#%%\n"
    }
   },
   "outputs": [
    {
     "data": {
      "text/plain": "{'cloud_1': 93,\n 'cloud_2': 83,\n 'cloud_3': 92,\n 'cloud_4': 91,\n 'cloud_5': 82,\n 'edge_1': 54,\n 'edge_2': 57,\n 'edge_3': 44,\n 'edge_4': 47,\n 'edge_5': 55,\n 'edge_6': 51,\n 'edge_7': 54,\n 'edge_8': 41,\n 'edge_9': 55,\n 'edge_10': 54,\n 'edge_11': 53,\n 'edge_12': 46,\n 'edge_13': 57,\n 'edge_14': 46,\n 'edge_15': 45,\n 'edge_16': 43,\n 'edge_17': 45,\n 'edge_18': 42,\n 'edge_19': 50,\n 'edge_20': 40}"
     },
     "execution_count": 18,
     "metadata": {},
     "output_type": "execute_result"
    }
   ],
   "source": [
    "other_test_data[\"C_k\"]"
   ]
  },
  {
   "cell_type": "code",
   "execution_count": null,
   "id": "23979ce3",
   "metadata": {
    "pycharm": {
     "name": "#%%\n"
    }
   },
   "outputs": [],
   "source": []
  },
  {
   "cell_type": "code",
   "execution_count": null,
   "id": "0094c667",
   "metadata": {
    "pycharm": {
     "name": "#%%\n"
    }
   },
   "outputs": [],
   "source": []
  }
 ],
 "metadata": {
  "kernelspec": {
   "display_name": "Python 3 (ipykernel)",
   "language": "python",
   "name": "python3"
  },
  "language_info": {
   "codemirror_mode": {
    "name": "ipython",
    "version": 3
   },
   "file_extension": ".py",
   "mimetype": "text/x-python",
   "name": "python",
   "nbconvert_exporter": "python",
   "pygments_lexer": "ipython3",
   "version": "3.7.11"
  }
 },
 "nbformat": 4,
 "nbformat_minor": 5
}