{
 "cells": [
  {
   "cell_type": "code",
   "execution_count": 1,
   "id": "95455c64",
   "metadata": {},
   "outputs": [],
   "source": [
    "import pickle\n",
    "import random\n",
    "import matplotlib.pyplot as plt\n",
    "import numpy as np\n",
    "import pandas as pd\n",
    "import seaborn as sns\n",
    "import math\n",
    "\n",
    "%matplotlib inline"
   ]
  },
  {
   "cell_type": "code",
   "execution_count": 2,
   "id": "60b5c88e",
   "metadata": {},
   "outputs": [],
   "source": [
    "def read_pickle(filename):\n",
    "    infile = open(filename,'rb')\n",
    "    dict_data = pickle.load(infile)\n",
    "    infile.close()\n",
    "    return dict_data"
   ]
  },
  {
   "cell_type": "code",
   "execution_count": 3,
   "id": "6e72eb10",
   "metadata": {},
   "outputs": [],
   "source": [
    "def write_pickle(dict_data, filename):\n",
    "    pickling_on = open(filename+'.pickle',\"wb\")\n",
    "    pickle.dump(dict_data, pickling_on)\n",
    "    pickling_on.close()\n",
    "    print('saved file')"
   ]
  },
  {
   "cell_type": "code",
   "execution_count": 4,
   "outputs": [
    {
     "name": "stdout",
     "output_type": "stream",
     "text": [
      "data/gurobi_results_size_40_unit_5_1.pickle\n",
      "data/gurobi_results_size_60_unit_5_1.pickle\n",
      "data/gurobi_results_size_60_unit_5_2.pickle\n",
      "data/gurobi_results_size_80_unit_5_1.pickle\n",
      "data/gurobi_results_size_80_unit_5_2.pickle\n",
      "data/gurobi_results_size_80_unit_5_3.pickle\n",
      "data/gurobi_results_size_100_unit_5_1.pickle\n",
      "data/gurobi_results_size_100_unit_5_2.pickle\n",
      "data/gurobi_results_size_100_unit_5_3.pickle\n",
      "data/gurobi_results_size_120_unit_5_1.pickle\n",
      "data/gurobi_results_size_120_unit_5_2.pickle\n",
      "data/gurobi_results_size_120_unit_5_3.pickle\n",
      "data/gurobi_results_size_120_unit_5_4.pickle\n",
      "data/gurobi_results_size_40_unit_15_1.pickle\n",
      "data/gurobi_results_size_60_unit_15_1.pickle\n",
      "data/gurobi_results_size_60_unit_15_2.pickle\n",
      "data/gurobi_results_size_80_unit_15_1.pickle\n",
      "data/gurobi_results_size_80_unit_15_2.pickle\n",
      "data/gurobi_results_size_80_unit_15_3.pickle\n",
      "data/gurobi_results_size_100_unit_15_1.pickle\n",
      "data/gurobi_results_size_100_unit_15_2.pickle\n",
      "data/gurobi_results_size_100_unit_15_3.pickle\n",
      "data/gurobi_results_size_120_unit_15_1.pickle\n",
      "data/gurobi_results_size_120_unit_15_2.pickle\n",
      "data/gurobi_results_size_120_unit_15_3.pickle\n",
      "data/gurobi_results_size_120_unit_15_4.pickle\n"
     ]
    }
   ],
   "source": [
    "gurobi_results_5 = []\n",
    "gurobi_results_15 = []\n",
    "\n",
    "name_list = [[40,1], [60,1], [60,2], [80,1], [80,2], [80,3], [100,1], [100,2], [100,3], [120,1], [120,2], [120,3], [120,4]]\n",
    "\n",
    "for name in name_list:\n",
    "    file_name = \"data/gurobi_results_size_\" + str(name[0]) + \"_unit_5_\" + str(name[1]) + \".pickle\"\n",
    "    print(file_name)\n",
    "    gurobi_data = read_pickle(file_name)\n",
    "    gurobi_results_5.append(gurobi_data)\n",
    "\n",
    "for name in name_list:\n",
    "    file_name = \"data/gurobi_results_size_\" + str(name[0]) + \"_unit_15_\" + str(name[1]) + \".pickle\"\n",
    "    print(file_name)\n",
    "    gurobi_data = read_pickle(file_name)\n",
    "    gurobi_results_15.append(gurobi_data)"
   ],
   "metadata": {
    "collapsed": false,
    "pycharm": {
     "name": "#%%\n"
    }
   }
  },
  {
   "cell_type": "code",
   "execution_count": 5,
   "id": "7cf781e5",
   "metadata": {},
   "outputs": [],
   "source": [
    "dict_data = {}\n",
    "dict_data['other_test_data'] = gurobi_results_5[0]['other_test_data']\n",
    "\n",
    "dict_data['tasksets'] = {}\n",
    "dict_data['results'] = {}\n",
    "dict_data['heuristic_profit'] = {}\n",
    "# dict_data['gurobi_time_limit'] = {}\n",
    "dict_data['heuristic_num_offloaded'] = {}\n",
    "dict_data['gurobi_profit_5'] = {}\n",
    "dict_data['gurobi_runtime_5'] = {}\n",
    "dict_data['gurobi_num_offloaded_5'] = {}\n",
    "\n",
    "\n",
    "\n",
    "for dict1 in gurobi_results_5:\n",
    "    for ID in dict1['tasksets'].keys():\n",
    "        dict_data['tasksets'][ID] = dict1['tasksets'][ID]\n",
    "        \n",
    "    for ID in dict1['results'].keys():\n",
    "        dict_data['results'][ID] = dict1['results'][ID]\n",
    "        \n",
    "    for ID in dict1['heuristic_profit'].keys():\n",
    "        dict_data['heuristic_profit'][ID] = dict1['heuristic_profit'][ID]\n",
    "        \n",
    "    for ID in dict1['heuristic_num_offloaded'].keys():\n",
    "        dict_data['heuristic_num_offloaded'][ID] = dict1['heuristic_num_offloaded'][ID]\n",
    "        \n",
    "    for ID in dict1['gurobi_profit'].keys():\n",
    "        dict_data['gurobi_profit_5'][ID] = dict1['gurobi_profit'][ID]\n",
    "        \n",
    "    for ID in dict1['gurobi_runtime'].keys():\n",
    "        dict_data['gurobi_runtime_5'][ID] = dict1['gurobi_runtime'][ID]\n",
    "        \n",
    "    for ID in dict1['gurobi_num_offloaded'].keys():\n",
    "        dict_data['gurobi_num_offloaded_5'][ID] = dict1['gurobi_num_offloaded'][ID]"
   ]
  },
  {
   "cell_type": "code",
   "execution_count": 6,
   "id": "a72711c3",
   "metadata": {},
   "outputs": [],
   "source": [
    "dict_data['gurobi_profit_15'] = {}\n",
    "dict_data['gurobi_runtime_15'] = {}\n",
    "dict_data['gurobi_num_offloaded_15'] = {}\n",
    "\n",
    "for dict3 in gurobi_results_15:\n",
    "    \n",
    "    for ID in dict3['gurobi_profit'].keys():\n",
    "        dict_data['gurobi_profit_15'][ID] = dict3['gurobi_profit'][ID]\n",
    "        dict_data['gurobi_runtime_15'][ID] = dict3['gurobi_runtime'][ID]\n",
    "        dict_data['gurobi_num_offloaded_15'][ID] = dict3['gurobi_num_offloaded'][ID]"
   ]
  },
  {
   "cell_type": "markdown",
   "id": "946f6a65",
   "metadata": {},
   "source": [
    "### Note: We have copied dictionaries. There could be cross-copying between 4-4.2 and 5-5.2 <br>so do not change any values "
   ]
  },
  {
   "cell_type": "code",
   "execution_count": 7,
   "id": "073bbe8e",
   "metadata": {},
   "outputs": [
    {
     "data": {
      "text/plain": "12000"
     },
     "execution_count": 7,
     "metadata": {},
     "output_type": "execute_result"
    }
   ],
   "source": [
    "len(dict_data['results'].keys())"
   ]
  },
  {
   "cell_type": "code",
   "execution_count": 8,
   "outputs": [
    {
     "name": "stdout",
     "output_type": "stream",
     "text": [
      "3949.269333333333\n",
      "3750.3537112282365\n"
     ]
    },
    {
     "data": {
      "text/plain": "-0.05036770230537919"
     },
     "execution_count": 8,
     "metadata": {},
     "output_type": "execute_result"
    }
   ],
   "source": [
    "heuristic_mean = sum(dict_data[\"heuristic_profit\"].values())/len(dict_data[\"heuristic_profit\"].values())\n",
    "print(heuristic_mean)\n",
    "\n",
    "gurobi_profit_sum = sum(dict_data[\"gurobi_profit_5\"].values()) + sum(dict_data[\"gurobi_profit_15\"].values())\n",
    "gurobi_mean = gurobi_profit_sum/(len(dict_data[\"gurobi_profit_5\"].values()) * 2)\n",
    "print(gurobi_mean)\n",
    "\n",
    "(gurobi_mean - heuristic_mean)/heuristic_mean"
   ],
   "metadata": {
    "collapsed": false,
    "pycharm": {
     "name": "#%%\n"
    }
   }
  },
  {
   "cell_type": "code",
   "execution_count": 9,
   "id": "6013e26d",
   "metadata": {},
   "outputs": [],
   "source": [
    "# id_comp = {('0','10'):[], ('10','20'):[], ('20','30'):[], ('30','40'):[], ('40','50'):[], ('50','60'):[],\\\n",
    "#            ('60','70'):[], ('70','80'):[], ('80','90'):[], ('90','100'):[]}\n",
    "id_comp = {\"[0, 25)\":[], \"[25, 50)\":[], \"[50, 75)\":[], \"[75, 100]\":[]}\n",
    "\n",
    "\n",
    "# id_bdwth = {('0','10'):[], ('10','20'):[], ('20','30'):[], ('30','40'):[], ('40','50'):[], ('50','60'):[],\\\n",
    "#            ('60','70'):[], ('70','80'):[], ('80','90'):[], ('90','100'):[]}\n",
    "id_bdwth = {\"[0, 25)\":[], \"[25, 50)\":[], \"[50, 75)\":[], \"[75, 100]\":[]}\n",
    "\n",
    "id_num_tasks = {'40':[], '60':[], '80':[], '100':[], '120':[]}\n",
    "\n",
    "for ID in dict_data['results'].keys():\n",
    "    p_c = dict_data['results'][ID]['percent_comp_int']\n",
    "    p_b = dict_data['results'][ID]['percent_bdwth_int']\n",
    "\n",
    "    if p_c >= 75:\n",
    "        id_comp[\"[75, 100]\"].append(ID)\n",
    "    elif p_c >= 50:\n",
    "        id_comp[\"[50, 75)\"].append(ID)\n",
    "    elif p_c >= 25:\n",
    "        id_comp[\"[25, 50)\"].append(ID)\n",
    "    else:\n",
    "        id_comp[\"[0, 25)\"].append(ID)\n",
    "\n",
    "    if p_b >= 75:\n",
    "        id_bdwth[\"[75, 100]\"].append(ID)\n",
    "    elif p_b >= 50:\n",
    "        id_bdwth[\"[50, 75)\"].append(ID)\n",
    "    elif p_b >= 25:\n",
    "        id_bdwth[\"[25, 50)\"].append(ID)\n",
    "    else:\n",
    "        id_bdwth[\"[0, 25)\"].append(ID)\n",
    "            \n",
    "    for key in id_num_tasks:\n",
    "        if dict_data['results'][ID]['num_tasks'] == int(key):\n",
    "            id_num_tasks[key].append(ID)"
   ]
  },
  {
   "cell_type": "code",
   "execution_count": 10,
   "id": "f0f1ff58",
   "metadata": {},
   "outputs": [
    {
     "name": "stdout",
     "output_type": "stream",
     "text": [
      "Number of Instances split by compute intensiveness:\n",
      "[0, 25): 3720\n",
      "[25, 50): 2911\n",
      "[50, 75): 3166\n",
      "[75, 100]: 2203\n",
      "\n",
      "Number of Instances split by bdwth intensiveness:\n",
      "[0, 25): 5472\n",
      "[25, 50): 4359\n",
      "[50, 75): 2052\n",
      "[75, 100]: 117\n",
      "\n"
     ]
    }
   ],
   "source": [
    "print('Number of Instances split by compute intensiveness:')\n",
    "for key in id_comp.keys():\n",
    "    print(key+': ', end='')\n",
    "    print(len(id_comp[key]))\n",
    "print()\n",
    "\n",
    "print('Number of Instances split by bdwth intensiveness:')\n",
    "for key in id_bdwth.keys():\n",
    "    print(key+': ', end='')\n",
    "    print(len(id_bdwth[key]))\n",
    "print() "
   ]
  },
  {
   "cell_type": "code",
   "execution_count": 11,
   "id": "fce9e0e2",
   "metadata": {},
   "outputs": [
    {
     "name": "stdout",
     "output_type": "stream",
     "text": [
      "12000\n",
      "12000\n",
      "12000\n"
     ]
    }
   ],
   "source": [
    "# Checking\n",
    "\n",
    "sume=0\n",
    "for key in id_comp:\n",
    "    sume += len(id_comp[key])\n",
    "print(sume)\n",
    "sume=0\n",
    "for key in id_bdwth:\n",
    "    sume += len(id_bdwth[key])\n",
    "print(sume)\n",
    "sume=0\n",
    "for key in id_num_tasks:\n",
    "    sume += len(id_num_tasks[key])\n",
    "print(sume)"
   ]
  },
  {
   "cell_type": "code",
   "execution_count": 12,
   "id": "bb4efa45",
   "metadata": {},
   "outputs": [
    {
     "data": {
      "text/plain": "dict_keys(['other_test_data', 'tasksets', 'results', 'heuristic_profit', 'heuristic_num_offloaded', 'gurobi_profit_5', 'gurobi_runtime_5', 'gurobi_num_offloaded_5', 'gurobi_profit_15', 'gurobi_runtime_15', 'gurobi_num_offloaded_15'])"
     },
     "execution_count": 12,
     "metadata": {},
     "output_type": "execute_result"
    }
   ],
   "source": [
    "dict_data.keys()"
   ]
  },
  {
   "cell_type": "markdown",
   "id": "809bdc1f",
   "metadata": {},
   "source": [
    "#### Compute Intensiveness"
   ]
  },
  {
   "cell_type": "code",
   "execution_count": 13,
   "id": "437df9d6",
   "metadata": {},
   "outputs": [],
   "source": [
    "data_comp_int = {'fraction of total profit': [], 'Algorithm': [], 'percentage of computation intensive tasks': []}\n",
    "\n",
    "# id_comp = {\"[0, 25)\":[], \"[25, 50)\":[], \"[50, 75)\":[], \"[75, 100]\":[]}\n",
    "for key in id_comp.keys():\n",
    "    for ID in id_comp[key]:\n",
    "        total_profit = sum(dict_data['tasksets'][ID]['G_i'].values())\n",
    "\n",
    "        data_comp_int['fraction of total profit'].append(dict_data['heuristic_profit'][ID]/total_profit)\n",
    "        data_comp_int['Algorithm'].append('ZSG')\n",
    "        data_comp_int['percentage of computation intensive tasks'].append(key)\n",
    "        \n",
    "        data_comp_int['fraction of total profit'].append(dict_data['gurobi_profit_5'][ID]/total_profit)\n",
    "        data_comp_int['Algorithm'].append('LDM-5')\n",
    "        data_comp_int['percentage of computation intensive tasks'].append(key)\n",
    "        \n",
    "        # data_comp_int['profit'].append(dict_data['gurobi_profit_10'][ID])\n",
    "        # data_comp_int['Algorithm'].append('gurobi unit 10')\n",
    "        # data_comp_int['percentage of computation intensive tasks'].append(str(key[0])+'-'+str(key[1]))\n",
    "        \n",
    "        data_comp_int['fraction of total profit'].append(dict_data['gurobi_profit_15'][ID]/total_profit)\n",
    "        data_comp_int['Algorithm'].append('LDM-15')\n",
    "        data_comp_int['percentage of computation intensive tasks'].append(key)"
   ]
  },
  {
   "cell_type": "code",
   "execution_count": 14,
   "id": "eb855dd5",
   "metadata": {},
   "outputs": [
    {
     "data": {
      "text/plain": "   fraction of total profit Algorithm  \\\n0                       1.0       ZSG   \n1                       1.0     LDM-5   \n2                       1.0    LDM-15   \n3                       1.0       ZSG   \n4                       1.0     LDM-5   \n\n  percentage of computation intensive tasks  \n0                                   [0, 25)  \n1                                   [0, 25)  \n2                                   [0, 25)  \n3                                   [0, 25)  \n4                                   [0, 25)  ",
      "text/html": "<div>\n<style scoped>\n    .dataframe tbody tr th:only-of-type {\n        vertical-align: middle;\n    }\n\n    .dataframe tbody tr th {\n        vertical-align: top;\n    }\n\n    .dataframe thead th {\n        text-align: right;\n    }\n</style>\n<table border=\"1\" class=\"dataframe\">\n  <thead>\n    <tr style=\"text-align: right;\">\n      <th></th>\n      <th>fraction of total profit</th>\n      <th>Algorithm</th>\n      <th>percentage of computation intensive tasks</th>\n    </tr>\n  </thead>\n  <tbody>\n    <tr>\n      <th>0</th>\n      <td>1.0</td>\n      <td>ZSG</td>\n      <td>[0, 25)</td>\n    </tr>\n    <tr>\n      <th>1</th>\n      <td>1.0</td>\n      <td>LDM-5</td>\n      <td>[0, 25)</td>\n    </tr>\n    <tr>\n      <th>2</th>\n      <td>1.0</td>\n      <td>LDM-15</td>\n      <td>[0, 25)</td>\n    </tr>\n    <tr>\n      <th>3</th>\n      <td>1.0</td>\n      <td>ZSG</td>\n      <td>[0, 25)</td>\n    </tr>\n    <tr>\n      <th>4</th>\n      <td>1.0</td>\n      <td>LDM-5</td>\n      <td>[0, 25)</td>\n    </tr>\n  </tbody>\n</table>\n</div>"
     },
     "execution_count": 14,
     "metadata": {},
     "output_type": "execute_result"
    }
   ],
   "source": [
    "df_comp_int = pd.DataFrame(data_comp_int)\n",
    "df_comp_int.head()"
   ]
  },
  {
   "cell_type": "code",
   "execution_count": 15,
   "outputs": [
    {
     "name": "stdout",
     "output_type": "stream",
     "text": [
      "ZSG profit mean:  0.88500973583188\n",
      "LDM-5 profit mean:  0.9102235395607218\n",
      "LDM-15 profit mean:  0.8153086475635226\n",
      "2.5213803728841744\n",
      "-6.970108826835741\n",
      "9.491489199719915\n"
     ]
    }
   ],
   "source": [
    "zsg_profit = df_comp_int[df_comp_int[\"Algorithm\"] == \"ZSG\"]\n",
    "zsg_mean = zsg_profit[\"fraction of total profit\"].mean()\n",
    "print(\"ZSG profit mean: \", zsg_mean)\n",
    "\n",
    "ldm5_profit = df_comp_int[df_comp_int[\"Algorithm\"] == \"LDM-5\"]\n",
    "ldm5_mean = ldm5_profit[\"fraction of total profit\"].mean()\n",
    "print(\"LDM-5 profit mean: \", ldm5_mean)\n",
    "\n",
    "ldm15_profit = df_comp_int[df_comp_int[\"Algorithm\"] == \"LDM-15\"]\n",
    "ldm15_mean = ldm15_profit[\"fraction of total profit\"].mean()\n",
    "print(\"LDM-15 profit mean: \", ldm15_mean)\n",
    "\n",
    "# (gurobi_mean - zsg_mean) / zsg_mean * 100\n",
    "print((ldm5_mean - zsg_mean) * 100)\n",
    "print((ldm15_mean - zsg_mean) * 100)\n",
    "\n",
    "print((ldm5_mean - ldm15_mean) * 100)"
   ],
   "metadata": {
    "collapsed": false,
    "pycharm": {
     "name": "#%%\n"
    }
   }
  },
  {
   "cell_type": "code",
   "execution_count": 16,
   "id": "188a90e8",
   "metadata": {},
   "outputs": [
    {
     "data": {
      "text/plain": "<Figure size 864x504 with 1 Axes>",
      "image/png": "[encoded data removed]"
     },
     "metadata": {},
     "output_type": "display_data"
    }
   ],
   "source": [
    "# Draw a nested boxplot to show bills by day and sex\n",
    "# sns.boxplot(x=\"day\", y=\"total_bill\", hue=\"sex\", data=tips, palette=\"PRGn\", width=0.2)\n",
    "# sns.despine(offset=10, trim=True)\n",
    "\n",
    "sns.set(rc={'figure.figsize':(12,7)})\n",
    "# sns.set()\n",
    "sns.set(font_scale = 1.5)\n",
    "sns.set_style(\"whitegrid\")\n",
    "boxplot_plot1 = sns.boxplot(x='percentage of computation intensive tasks', y= 'fraction of total profit', hue='Algorithm', data=df_comp_int, palette=\"pastel\",width=0.5, showmeans=True,\\\n",
    "           meanprops={'marker':'s', \"markerfacecolor\":\"black\", \"markeredgecolor\":\"black\", \"markersize\": 4})\n",
    "sns.despine(offset=10, trim=False)\n",
    "# boxplot_plot1.set_xlabel(\"Percentage of computation intensive tasks\", fontsize = 20)\n",
    "# boxplot_plot1.set_ylabel(\"Profit\", fontsize = 20)\n",
    "\n",
    "fig = boxplot_plot1.get_figure()\n",
    "plt.savefig('compute_intensive.pdf')"
   ]
  },
  {
   "cell_type": "markdown",
   "id": "ab87e93c",
   "metadata": {},
   "source": [
    "## Bandwidth Intensiveness"
   ]
  },
  {
   "cell_type": "code",
   "execution_count": 17,
   "id": "5d86add6",
   "metadata": {},
   "outputs": [],
   "source": [
    "data_bdwth_int = {'fraction of total profit': [], 'Algorithm': [], 'percentage of bandwidth intensive tasks': []}\n",
    "\n",
    "# id_bdwth = {\"[0, 25)\":[], \"[25, 50)\":[], \"[50, 75)\":[], \"[75, 100]\":[]}\n",
    "for key in id_bdwth.keys():\n",
    "        for ID in id_bdwth[key]:\n",
    "            total_profit = sum(dict_data['tasksets'][ID]['G_i'].values())\n",
    "\n",
    "            data_bdwth_int['fraction of total profit'].append(dict_data['heuristic_profit'][ID]/total_profit)\n",
    "            data_bdwth_int['Algorithm'].append('ZSG')\n",
    "            data_bdwth_int['percentage of bandwidth intensive tasks'].append(key)\n",
    "\n",
    "            data_bdwth_int['fraction of total profit'].append(dict_data['gurobi_profit_5'][ID]/total_profit)\n",
    "            data_bdwth_int['Algorithm'].append('LDM-5')\n",
    "            data_bdwth_int['percentage of bandwidth intensive tasks'].append(key)\n",
    "\n",
    "            data_bdwth_int['fraction of total profit'].append(dict_data['gurobi_profit_15'][ID]/total_profit)\n",
    "            data_bdwth_int['Algorithm'].append('LDM-15')\n",
    "            data_bdwth_int['percentage of bandwidth intensive tasks'].append(key)"
   ]
  },
  {
   "cell_type": "code",
   "execution_count": 18,
   "id": "b5d3f98d",
   "metadata": {},
   "outputs": [
    {
     "data": {
      "text/plain": "   fraction of total profit Algorithm percentage of bandwidth intensive tasks\n0                       1.0       ZSG                                 [0, 25)\n1                       1.0     LDM-5                                 [0, 25)\n2                       1.0    LDM-15                                 [0, 25)\n3                       1.0       ZSG                                 [0, 25)\n4                       1.0     LDM-5                                 [0, 25)",
      "text/html": "<div>\n<style scoped>\n    .dataframe tbody tr th:only-of-type {\n        vertical-align: middle;\n    }\n\n    .dataframe tbody tr th {\n        vertical-align: top;\n    }\n\n    .dataframe thead th {\n        text-align: right;\n    }\n</style>\n<table border=\"1\" class=\"dataframe\">\n  <thead>\n    <tr style=\"text-align: right;\">\n      <th></th>\n      <th>fraction of total profit</th>\n      <th>Algorithm</th>\n      <th>percentage of bandwidth intensive tasks</th>\n    </tr>\n  </thead>\n  <tbody>\n    <tr>\n      <th>0</th>\n      <td>1.0</td>\n      <td>ZSG</td>\n      <td>[0, 25)</td>\n    </tr>\n    <tr>\n      <th>1</th>\n      <td>1.0</td>\n      <td>LDM-5</td>\n      <td>[0, 25)</td>\n    </tr>\n    <tr>\n      <th>2</th>\n      <td>1.0</td>\n      <td>LDM-15</td>\n      <td>[0, 25)</td>\n    </tr>\n    <tr>\n      <th>3</th>\n      <td>1.0</td>\n      <td>ZSG</td>\n      <td>[0, 25)</td>\n    </tr>\n    <tr>\n      <th>4</th>\n      <td>1.0</td>\n      <td>LDM-5</td>\n      <td>[0, 25)</td>\n    </tr>\n  </tbody>\n</table>\n</div>"
     },
     "execution_count": 18,
     "metadata": {},
     "output_type": "execute_result"
    }
   ],
   "source": [
    "df_bdwth_int = pd.DataFrame(data_bdwth_int)\n",
    "df_bdwth_int.head()"
   ]
  },
  {
   "cell_type": "code",
   "execution_count": 19,
   "outputs": [
    {
     "name": "stdout",
     "output_type": "stream",
     "text": [
      "ZSG profit mean:  0.8850097358318806\n",
      "LDM-5 profit mean:  0.9102235395607248\n",
      "LDM-15 profit mean:  0.815308647563518\n",
      "2.5213803728844186\n",
      "-6.970108826836263\n"
     ]
    }
   ],
   "source": [
    "zsg_profit2 = df_bdwth_int[df_bdwth_int[\"Algorithm\"] == \"ZSG\"]\n",
    "zsg_mean2 = zsg_profit2[\"fraction of total profit\"].mean()\n",
    "print(\"ZSG profit mean: \", zsg_mean2)\n",
    "\n",
    "ldm5_profit2 = df_bdwth_int[df_bdwth_int[\"Algorithm\"] == \"LDM-5\"]\n",
    "ldm5_mean2 = ldm5_profit2[\"fraction of total profit\"].mean()\n",
    "print(\"LDM-5 profit mean: \", ldm5_mean2)\n",
    "\n",
    "ldm15_profit2 = df_bdwth_int[df_bdwth_int[\"Algorithm\"] == \"LDM-15\"]\n",
    "ldm15_mean2 = ldm15_profit2[\"fraction of total profit\"].mean()\n",
    "print(\"LDM-15 profit mean: \", ldm15_mean2)\n",
    "\n",
    "# (gurobi_mean2 - zsg_mean2) / zsg_mean2 * 100\n",
    "print((ldm5_mean2 - zsg_mean2) * 100)\n",
    "print((ldm15_mean2 - zsg_mean2) * 100)"
   ],
   "metadata": {
    "collapsed": false,
    "pycharm": {
     "name": "#%%\n"
    }
   }
  },
  {
   "cell_type": "code",
   "execution_count": 20,
   "id": "bb1f0e1e",
   "metadata": {},
   "outputs": [
    {
     "data": {
      "text/plain": "<Figure size 864x504 with 1 Axes>",
      "image/png": "[encoded data removed]"
     },
     "metadata": {},
     "output_type": "display_data"
    }
   ],
   "source": [
    "sns.set(rc={'figure.figsize':(12,7)})\n",
    "sns.set(font_scale = 1.5)\n",
    "sns.set_style(\"whitegrid\")\n",
    "\n",
    "# boxplot_plot1 = sns.boxplot(x='percentage of computation intensive tasks', y= 'fraction of total profit', hue='Algorithm', data=df_comp_int, palette=\"pastel\",width=0.5, showmeans=True,\n",
    "#                             meanprops={'marker':'s', \"markerfacecolor\":\"black\", \"markeredgecolor\":\"black\", \"markersize\": 3})\n",
    "# sns.despine(offset=10, trim=False)\n",
    "\n",
    "boxplot_plot2 = sns.boxplot(x='percentage of bandwidth intensive tasks',\\\n",
    "            y= 'fraction of total profit', hue='Algorithm', data=df_bdwth_int, palette=\"pastel\", width=0.5, showmeans=True,\n",
    "                            meanprops={'marker':'s', \"markerfacecolor\":\"black\", \"markeredgecolor\":\"black\", \"markersize\": 4})\n",
    "sns.despine(offset=10, trim=False)\n",
    "\n",
    "fig = boxplot_plot2.get_figure()\n",
    "plt.savefig('bandwidth_intensive.pdf')"
   ]
  },
  {
   "cell_type": "markdown",
   "id": "3ce362bc",
   "metadata": {},
   "source": [
    "#### Number of Tasks"
   ]
  },
  {
   "cell_type": "code",
   "execution_count": 21,
   "id": "29b25cd1",
   "metadata": {},
   "outputs": [],
   "source": [
    "data_num_int = {'fraction of total profit': [], 'Algorithm': [], 'number of tasks': []}\n",
    "\n",
    "for key in id_num_tasks.keys():\n",
    "    \n",
    "    for ID in id_num_tasks[key]:\n",
    "        total_profit = sum(dict_data['tasksets'][ID]['G_i'].values())\n",
    "        \n",
    "        data_num_int['fraction of total profit'].append(dict_data['heuristic_profit'][ID]/total_profit)\n",
    "        data_num_int['Algorithm'].append('ZSG')\n",
    "        data_num_int['number of tasks'].append(str(key))\n",
    "\n",
    "        data_num_int['fraction of total profit'].append(dict_data['gurobi_profit_5'][ID]/total_profit)\n",
    "        data_num_int['Algorithm'].append('LDM-5')\n",
    "        data_num_int['number of tasks'].append(str(key))\n",
    "        \n",
    "        # data_num_int['fraction of total profit'].append(dict_data['gurobi_profit_10'][ID]/total_profit)\n",
    "        # data_num_int['Algorithm'].append('gurobi unit 10')\n",
    "        # data_num_int['number of tasks'].append(str(key))\n",
    "        \n",
    "        data_num_int['fraction of total profit'].append(dict_data['gurobi_profit_15'][ID]/total_profit)\n",
    "        data_num_int['Algorithm'].append('LDM-15')\n",
    "        data_num_int['number of tasks'].append(str(key))"
   ]
  },
  {
   "cell_type": "code",
   "execution_count": 22,
   "id": "beb3580d",
   "metadata": {},
   "outputs": [
    {
     "data": {
      "text/plain": "   fraction of total profit Algorithm number of tasks\n0                       1.0       ZSG              40\n1                       1.0     LDM-5              40\n2                       1.0    LDM-15              40\n3                       1.0       ZSG              40\n4                       1.0     LDM-5              40",
      "text/html": "<div>\n<style scoped>\n    .dataframe tbody tr th:only-of-type {\n        vertical-align: middle;\n    }\n\n    .dataframe tbody tr th {\n        vertical-align: top;\n    }\n\n    .dataframe thead th {\n        text-align: right;\n    }\n</style>\n<table border=\"1\" class=\"dataframe\">\n  <thead>\n    <tr style=\"text-align: right;\">\n      <th></th>\n      <th>fraction of total profit</th>\n      <th>Algorithm</th>\n      <th>number of tasks</th>\n    </tr>\n  </thead>\n  <tbody>\n    <tr>\n      <th>0</th>\n      <td>1.0</td>\n      <td>ZSG</td>\n      <td>40</td>\n    </tr>\n    <tr>\n      <th>1</th>\n      <td>1.0</td>\n      <td>LDM-5</td>\n      <td>40</td>\n    </tr>\n    <tr>\n      <th>2</th>\n      <td>1.0</td>\n      <td>LDM-15</td>\n      <td>40</td>\n    </tr>\n    <tr>\n      <th>3</th>\n      <td>1.0</td>\n      <td>ZSG</td>\n      <td>40</td>\n    </tr>\n    <tr>\n      <th>4</th>\n      <td>1.0</td>\n      <td>LDM-5</td>\n      <td>40</td>\n    </tr>\n  </tbody>\n</table>\n</div>"
     },
     "execution_count": 22,
     "metadata": {},
     "output_type": "execute_result"
    }
   ],
   "source": [
    "df_num_int = pd.DataFrame(data_num_int)\n",
    "df_num_int.head()"
   ]
  },
  {
   "cell_type": "code",
   "execution_count": 23,
   "id": "6c5a7e6e",
   "metadata": {},
   "outputs": [
    {
     "data": {
      "text/plain": "<Figure size 864x504 with 1 Axes>",
      "image/png": "[encoded data removed]"
     },
     "metadata": {},
     "output_type": "display_data"
    }
   ],
   "source": [
    "sns.set(rc={'figure.figsize':(12,7)})\n",
    "sns.set(font_scale = 1.5)\n",
    "sns.set_style(\"whitegrid\")\n",
    "boxplot_plot3 = sns.boxplot(x='number of tasks', y= 'fraction of total profit', hue='Algorithm', data=df_num_int, palette=\"pastel\", width=0.5, showmeans=True,\n",
    "                            meanprops={'marker':'s', \"markerfacecolor\":\"black\", \"markeredgecolor\":\"black\", \"markersize\": 4})\n",
    "sns.despine(offset=10, trim=False)\n",
    "\n",
    "fig = boxplot_plot3.get_figure()\n",
    "plt.savefig('num_tasks_intensive.pdf')"
   ]
  },
  {
   "cell_type": "code",
   "execution_count": 23,
   "id": "875f12d7",
   "metadata": {},
   "outputs": [],
   "source": []
  },
  {
   "cell_type": "code",
   "execution_count": 23,
   "id": "c07778e2",
   "metadata": {},
   "outputs": [],
   "source": []
  },
  {
   "cell_type": "code",
   "execution_count": 23,
   "id": "ac95ab1f",
   "metadata": {},
   "outputs": [],
   "source": []
  }
 ],
 "metadata": {
  "kernelspec": {
   "display_name": "Python 3 (ipykernel)",
   "language": "python",
   "name": "python3"
  },
  "language_info": {
   "codemirror_mode": {
    "name": "ipython",
    "version": 3
   },
   "file_extension": ".py",
   "mimetype": "text/x-python",
   "name": "python",
   "nbconvert_exporter": "python",
   "pygments_lexer": "ipython3",
   "version": "3.7.11"
  }
 },
 "nbformat": 4,
 "nbformat_minor": 5
}